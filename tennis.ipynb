{
 "cells": [
  {
   "cell_type": "code",
   "execution_count": 89,
   "metadata": {},
   "outputs": [],
   "source": [
    "import pandas as pd\n",
    "import numpy as np\n",
    "import matplotlib.pyplot as plt\n",
    "import seaborn as sns\n",
    "import os\n",
    "from scipy.stats import shapiro\n",
    "from scipy.stats import normaltest\n"
   ]
  },
  {
   "cell_type": "markdown",
   "metadata": {},
   "source": [
    "## Загрузка и подготовка данных\n",
    "\n",
    "### Формирование общего датафрейма"
   ]
  },
  {
   "cell_type": "code",
   "execution_count": 3,
   "metadata": {},
   "outputs": [],
   "source": [
    "# Создаем пустой список для хранения датафреймов\n",
    "datasets = []\n",
    "\n",
    "# Указываем путь к директории, содержащей наши CSV файлы\n",
    "directory = 'data'\n",
    "\n",
    "# Прочитаем каждый CSV файл и добавим его в список датафреймов\n",
    "for filename in os.listdir(directory):\n",
    "    if filename.endswith(\".csv\"):\n",
    "        df = pd.read_csv(os.path.join(directory, filename))\n",
    "        datasets.append(df)\n",
    "\n",
    "# Объединяем все датафреймы в один, игнорируя индексы и используя внешнее объединение\n",
    "df = pd.concat(datasets, ignore_index=True, join='outer')\n",
    "\n",
    "# Извлекаем год из столбца tourney_id и преобразуем его в целочисленный тип\n",
    "df['year'] = df['tourney_id'].str.extract(r'(\\d{4})').astype(int)\n",
    "\n",
    "# Сохраняем объединенный датафрейм в файл 'full_data/combined_atp_matches.csv' без индексов\n",
    "df.to_csv('data/all_atp.csv', index=False)"
   ]
  },
  {
   "cell_type": "code",
   "execution_count": 12,
   "metadata": {},
   "outputs": [
    {
     "data": {
      "text/plain": [
       "(191920, 50)"
      ]
     },
     "execution_count": 12,
     "metadata": {},
     "output_type": "execute_result"
    }
   ],
   "source": [
    "df = pd.read_csv('data/all_atp.csv')\n",
    "df.shape"
   ]
  },
  {
   "cell_type": "code",
   "execution_count": 63,
   "metadata": {},
   "outputs": [
    {
     "data": {
      "text/html": [
       "<div>\n",
       "<style scoped>\n",
       "    .dataframe tbody tr th:only-of-type {\n",
       "        vertical-align: middle;\n",
       "    }\n",
       "\n",
       "    .dataframe tbody tr th {\n",
       "        vertical-align: top;\n",
       "    }\n",
       "\n",
       "    .dataframe thead th {\n",
       "        text-align: right;\n",
       "    }\n",
       "</style>\n",
       "<table border=\"1\" class=\"dataframe\">\n",
       "  <thead>\n",
       "    <tr style=\"text-align: right;\">\n",
       "      <th></th>\n",
       "      <th>tourney_id</th>\n",
       "      <th>tourney_name</th>\n",
       "      <th>surface</th>\n",
       "      <th>draw_size</th>\n",
       "      <th>tourney_level</th>\n",
       "      <th>tourney_date</th>\n",
       "      <th>match_num</th>\n",
       "      <th>winner_id</th>\n",
       "      <th>winner_name</th>\n",
       "      <th>winner_hand</th>\n",
       "      <th>...</th>\n",
       "      <th>l_1stWon</th>\n",
       "      <th>l_2ndWon</th>\n",
       "      <th>l_SvGms</th>\n",
       "      <th>l_bpSaved</th>\n",
       "      <th>l_bpFaced</th>\n",
       "      <th>winner_rank</th>\n",
       "      <th>winner_rank_points</th>\n",
       "      <th>loser_rank</th>\n",
       "      <th>loser_rank_points</th>\n",
       "      <th>year</th>\n",
       "    </tr>\n",
       "  </thead>\n",
       "  <tbody>\n",
       "    <tr>\n",
       "      <th>0</th>\n",
       "      <td>1999-339</td>\n",
       "      <td>Adelaide</td>\n",
       "      <td>Hard</td>\n",
       "      <td>32.0</td>\n",
       "      <td>A</td>\n",
       "      <td>19990104</td>\n",
       "      <td>1</td>\n",
       "      <td>102158</td>\n",
       "      <td>Patrick Rafter</td>\n",
       "      <td>R</td>\n",
       "      <td>...</td>\n",
       "      <td>14.0</td>\n",
       "      <td>4.0</td>\n",
       "      <td>7.0</td>\n",
       "      <td>3.0</td>\n",
       "      <td>7.0</td>\n",
       "      <td>4.0</td>\n",
       "      <td>3315.0</td>\n",
       "      <td>115.0</td>\n",
       "      <td>415.0</td>\n",
       "      <td>1999</td>\n",
       "    </tr>\n",
       "    <tr>\n",
       "      <th>1</th>\n",
       "      <td>1999-339</td>\n",
       "      <td>Adelaide</td>\n",
       "      <td>Hard</td>\n",
       "      <td>32.0</td>\n",
       "      <td>A</td>\n",
       "      <td>19990104</td>\n",
       "      <td>2</td>\n",
       "      <td>101792</td>\n",
       "      <td>Slava Dosedel</td>\n",
       "      <td>R</td>\n",
       "      <td>...</td>\n",
       "      <td>31.0</td>\n",
       "      <td>12.0</td>\n",
       "      <td>11.0</td>\n",
       "      <td>5.0</td>\n",
       "      <td>8.0</td>\n",
       "      <td>64.0</td>\n",
       "      <td>723.0</td>\n",
       "      <td>77.0</td>\n",
       "      <td>635.0</td>\n",
       "      <td>1999</td>\n",
       "    </tr>\n",
       "    <tr>\n",
       "      <th>2</th>\n",
       "      <td>1999-339</td>\n",
       "      <td>Adelaide</td>\n",
       "      <td>Hard</td>\n",
       "      <td>32.0</td>\n",
       "      <td>A</td>\n",
       "      <td>19990104</td>\n",
       "      <td>3</td>\n",
       "      <td>102562</td>\n",
       "      <td>Jiri Novak</td>\n",
       "      <td>R</td>\n",
       "      <td>...</td>\n",
       "      <td>12.0</td>\n",
       "      <td>8.0</td>\n",
       "      <td>8.0</td>\n",
       "      <td>3.0</td>\n",
       "      <td>8.0</td>\n",
       "      <td>75.0</td>\n",
       "      <td>669.0</td>\n",
       "      <td>59.0</td>\n",
       "      <td>757.0</td>\n",
       "      <td>1999</td>\n",
       "    </tr>\n",
       "    <tr>\n",
       "      <th>3</th>\n",
       "      <td>1999-339</td>\n",
       "      <td>Adelaide</td>\n",
       "      <td>Hard</td>\n",
       "      <td>32.0</td>\n",
       "      <td>A</td>\n",
       "      <td>19990104</td>\n",
       "      <td>4</td>\n",
       "      <td>103720</td>\n",
       "      <td>Lleyton Hewitt</td>\n",
       "      <td>R</td>\n",
       "      <td>...</td>\n",
       "      <td>30.0</td>\n",
       "      <td>17.0</td>\n",
       "      <td>11.0</td>\n",
       "      <td>8.0</td>\n",
       "      <td>10.0</td>\n",
       "      <td>100.0</td>\n",
       "      <td>482.0</td>\n",
       "      <td>35.0</td>\n",
       "      <td>1007.0</td>\n",
       "      <td>1999</td>\n",
       "    </tr>\n",
       "    <tr>\n",
       "      <th>4</th>\n",
       "      <td>1999-339</td>\n",
       "      <td>Adelaide</td>\n",
       "      <td>Hard</td>\n",
       "      <td>32.0</td>\n",
       "      <td>A</td>\n",
       "      <td>19990104</td>\n",
       "      <td>5</td>\n",
       "      <td>101727</td>\n",
       "      <td>Jason Stoltenberg</td>\n",
       "      <td>R</td>\n",
       "      <td>...</td>\n",
       "      <td>16.0</td>\n",
       "      <td>13.0</td>\n",
       "      <td>8.0</td>\n",
       "      <td>4.0</td>\n",
       "      <td>7.0</td>\n",
       "      <td>27.0</td>\n",
       "      <td>1280.0</td>\n",
       "      <td>81.0</td>\n",
       "      <td>613.0</td>\n",
       "      <td>1999</td>\n",
       "    </tr>\n",
       "  </tbody>\n",
       "</table>\n",
       "<p>5 rows × 46 columns</p>\n",
       "</div>"
      ],
      "text/plain": [
       "  tourney_id tourney_name surface  draw_size tourney_level  tourney_date  \\\n",
       "0   1999-339     Adelaide    Hard       32.0             A      19990104   \n",
       "1   1999-339     Adelaide    Hard       32.0             A      19990104   \n",
       "2   1999-339     Adelaide    Hard       32.0             A      19990104   \n",
       "3   1999-339     Adelaide    Hard       32.0             A      19990104   \n",
       "4   1999-339     Adelaide    Hard       32.0             A      19990104   \n",
       "\n",
       "   match_num  winner_id        winner_name winner_hand  ...  l_1stWon  \\\n",
       "0          1     102158     Patrick Rafter           R  ...      14.0   \n",
       "1          2     101792      Slava Dosedel           R  ...      31.0   \n",
       "2          3     102562         Jiri Novak           R  ...      12.0   \n",
       "3          4     103720     Lleyton Hewitt           R  ...      30.0   \n",
       "4          5     101727  Jason Stoltenberg           R  ...      16.0   \n",
       "\n",
       "  l_2ndWon  l_SvGms  l_bpSaved l_bpFaced winner_rank  winner_rank_points  \\\n",
       "0      4.0      7.0        3.0       7.0         4.0              3315.0   \n",
       "1     12.0     11.0        5.0       8.0        64.0               723.0   \n",
       "2      8.0      8.0        3.0       8.0        75.0               669.0   \n",
       "3     17.0     11.0        8.0      10.0       100.0               482.0   \n",
       "4     13.0      8.0        4.0       7.0        27.0              1280.0   \n",
       "\n",
       "  loser_rank  loser_rank_points  year  \n",
       "0      115.0              415.0  1999  \n",
       "1       77.0              635.0  1999  \n",
       "2       59.0              757.0  1999  \n",
       "3       35.0             1007.0  1999  \n",
       "4       81.0              613.0  1999  \n",
       "\n",
       "[5 rows x 46 columns]"
      ]
     },
     "execution_count": 63,
     "metadata": {},
     "output_type": "execute_result"
    }
   ],
   "source": [
    "df.head()"
   ]
  },
  {
   "cell_type": "markdown",
   "metadata": {},
   "source": [
    "### Проверяем пропуски"
   ]
  },
  {
   "cell_type": "code",
   "execution_count": 3,
   "metadata": {},
   "outputs": [
    {
     "data": {
      "image/png": "[encoded data removed]",
      "text/plain": [
       "<Figure size 1200x600 with 1 Axes>"
      ]
     },
     "metadata": {},
     "output_type": "display_data"
    }
   ],
   "source": [
    "# Вычисляем процент пропущенных значений\n",
    "percent_missing = df.isnull().mean().sort_values(ascending=False)\n",
    "\n",
    "# Создаем тепловую карту отсортированных данных\n",
    "percent_missing.plot(kind='bar', figsize=(12, 6))\n",
    "plt.ylabel('Proportion of Missing Values (%)')\n",
    "plt.xlabel('Columns')\n",
    "plt.title('Percentage of Missing Values by Column')\n",
    "plt.show()"
   ]
  },
  {
   "cell_type": "markdown",
   "metadata": {},
   "source": [
    "В таких ячейках как: 'winner_entry', 'loser_entry', 'loser_seed' процент пропусков составляет более 60%. А значит они не будут статистически значимы и их можно удалить"
   ]
  },
  {
   "cell_type": "code",
   "execution_count": 14,
   "metadata": {},
   "outputs": [],
   "source": [
    "# удаляем столбцы с пропусками более 60%\n",
    "df = df.dropna(axis=1, thresh=(0.4 * df.shape[0]))\n"
   ]
  },
  {
   "cell_type": "markdown",
   "metadata": {},
   "source": [
    "## Задание 1\n",
    "\n",
    " a) Если ранг игрока выше более, чем на 20 позиций, то в среднем он будет выигрывать с большей вероятностью. (Если хотите проверить статистически — формируйте выборку как отклонение от ожидаемого количества побед при случайном исходе);\n",
    "\n",
    "\n",
    "У нас есть две гипотезы:\n",
    "\n",
    "$H_0$: вероятность выигрыша не зависит от ранга игрока\n",
    "\n",
    "$H_a$: если ранг игрока выше, чем ранг соперника более чем на 20 позиций, то в среднем вероятность выиграть у него больше\n",
    "\n",
    "\n",
    "\n",
    "1) Сформируем 2 выборки: \n",
    "\n",
    "- игроки с рангом, отличающимся более чем на 20 позиций от противника,\n",
    "\n",
    "- игроки с близким рангом к противнику (отличие менее 20 позиций)\n",
    "\n",
    "\n"
   ]
  },
  {
   "cell_type": "code",
   "execution_count": 64,
   "metadata": {},
   "outputs": [],
   "source": [
    "df_rank_1 = df[['winner_id', 'loser_id', 'winner_rank', 'loser_rank']].dropna()\n",
    "df_rank_1['higher_rank_win'] = abs((df_rank_1['winner_rank'] - df_rank_1['loser_rank'])) > 20"
   ]
  },
  {
   "cell_type": "code",
   "execution_count": 65,
   "metadata": {},
   "outputs": [
    {
     "data": {
      "text/plain": [
       "higher_rank_win\n",
       "True     106767\n",
       "False     37093\n",
       "Name: count, dtype: int64"
      ]
     },
     "execution_count": 65,
     "metadata": {},
     "output_type": "execute_result"
    }
   ],
   "source": [
    "df_rank_1['higher_rank_win'].value_counts()"
   ]
  },
  {
   "cell_type": "markdown",
   "metadata": {},
   "source": [
    "2) Для каждой игры в выборках посчитать ожидаемое количество побед при случайном исходе. Это можно сделать, умножив количество сыгранных игр на вероятность выигрыша 0,5 (при равных шансах для каждого игрока).\n",
    "\n",
    "3) Посчитать фактическое количество побед для каждого игрока в выборках.\n",
    "\n",
    "4) Вычислить отклонение фактического количества побед от ожидаемого для каждого игрока."
   ]
  },
  {
   "cell_type": "code",
   "execution_count": 75,
   "metadata": {},
   "outputs": [],
   "source": [
    "def player_metrics(df_rank_1):\n",
    "    \"\"\"\n",
    "    Функция для расчета:\n",
    "    - ожидаемого количества побед при случайном исходе, \n",
    "    - фактического количества побед для каждого игрока,\n",
    "    - отклонения фактического количества побед от ожидадаемого для каждого игрока.\n",
    "\n",
    "    \"\"\"\n",
    "    wins_count = df_rank_1['winner_id'].value_counts().astype(int).rename('wins')\n",
    "    losses_count = df_rank_1['loser_id'].value_counts().astype(int).rename('losses')\n",
    "    total_games = wins_count.add(losses_count, fill_value=0).astype(int).rename('total')\n",
    "    player_performance_df = pd.concat([wins_count, losses_count, total_games], axis=1).reset_index().rename(columns={'index': 'player_id'})\n",
    "    player_performance_df['expected_wins'] = player_performance_df['total'] * 0.5\n",
    "    player_performance_df['deviation'] = player_performance_df['wins'] - player_performance_df['expected_wins']\n",
    "    return player_performance_df.sort_values(by='total', ascending=False)"
   ]
  },
  {
   "cell_type": "code",
   "execution_count": 76,
   "metadata": {},
   "outputs": [],
   "source": [
    "more20 = player_metrics(df_rank_1[df_rank_1['higher_rank_win'] == True])\n",
    "less20 = player_metrics(df_rank_1[df_rank_1['higher_rank_win'] == False])"
   ]
  },
  {
   "cell_type": "code",
   "execution_count": 77,
   "metadata": {},
   "outputs": [
    {
     "data": {
      "text/html": [
       "<div>\n",
       "<style scoped>\n",
       "    .dataframe tbody tr th:only-of-type {\n",
       "        vertical-align: middle;\n",
       "    }\n",
       "\n",
       "    .dataframe tbody tr th {\n",
       "        vertical-align: top;\n",
       "    }\n",
       "\n",
       "    .dataframe thead th {\n",
       "        text-align: right;\n",
       "    }\n",
       "</style>\n",
       "<table border=\"1\" class=\"dataframe\">\n",
       "  <thead>\n",
       "    <tr style=\"text-align: right;\">\n",
       "      <th></th>\n",
       "      <th>player_id</th>\n",
       "      <th>wins</th>\n",
       "      <th>losses</th>\n",
       "      <th>total</th>\n",
       "      <th>expected_wins</th>\n",
       "      <th>deviation</th>\n",
       "    </tr>\n",
       "  </thead>\n",
       "  <tbody>\n",
       "    <tr>\n",
       "      <th>0</th>\n",
       "      <td>103819</td>\n",
       "      <td>821.0</td>\n",
       "      <td>103.0</td>\n",
       "      <td>924</td>\n",
       "      <td>462.0</td>\n",
       "      <td>359.0</td>\n",
       "    </tr>\n",
       "    <tr>\n",
       "      <th>1</th>\n",
       "      <td>104745</td>\n",
       "      <td>694.0</td>\n",
       "      <td>88.0</td>\n",
       "      <td>782</td>\n",
       "      <td>391.0</td>\n",
       "      <td>303.0</td>\n",
       "    </tr>\n",
       "    <tr>\n",
       "      <th>4</th>\n",
       "      <td>101736</td>\n",
       "      <td>614.0</td>\n",
       "      <td>132.0</td>\n",
       "      <td>746</td>\n",
       "      <td>373.0</td>\n",
       "      <td>241.0</td>\n",
       "    </tr>\n",
       "    <tr>\n",
       "      <th>2</th>\n",
       "      <td>104925</td>\n",
       "      <td>661.0</td>\n",
       "      <td>73.0</td>\n",
       "      <td>734</td>\n",
       "      <td>367.0</td>\n",
       "      <td>294.0</td>\n",
       "    </tr>\n",
       "    <tr>\n",
       "      <th>3</th>\n",
       "      <td>100656</td>\n",
       "      <td>626.0</td>\n",
       "      <td>86.0</td>\n",
       "      <td>712</td>\n",
       "      <td>356.0</td>\n",
       "      <td>270.0</td>\n",
       "    </tr>\n",
       "  </tbody>\n",
       "</table>\n",
       "</div>"
      ],
      "text/plain": [
       "   player_id   wins  losses  total  expected_wins  deviation\n",
       "0     103819  821.0   103.0    924          462.0      359.0\n",
       "1     104745  694.0    88.0    782          391.0      303.0\n",
       "4     101736  614.0   132.0    746          373.0      241.0\n",
       "2     104925  661.0    73.0    734          367.0      294.0\n",
       "3     100656  626.0    86.0    712          356.0      270.0"
      ]
     },
     "execution_count": 77,
     "metadata": {},
     "output_type": "execute_result"
    }
   ],
   "source": [
    "more20.head()"
   ]
  },
  {
   "cell_type": "code",
   "execution_count": 78,
   "metadata": {},
   "outputs": [
    {
     "data": {
      "text/html": [
       "<div>\n",
       "<style scoped>\n",
       "    .dataframe tbody tr th:only-of-type {\n",
       "        vertical-align: middle;\n",
       "    }\n",
       "\n",
       "    .dataframe tbody tr th {\n",
       "        vertical-align: top;\n",
       "    }\n",
       "\n",
       "    .dataframe thead th {\n",
       "        text-align: right;\n",
       "    }\n",
       "</style>\n",
       "<table border=\"1\" class=\"dataframe\">\n",
       "  <thead>\n",
       "    <tr style=\"text-align: right;\">\n",
       "      <th></th>\n",
       "      <th>player_id</th>\n",
       "      <th>wins</th>\n",
       "      <th>losses</th>\n",
       "      <th>total</th>\n",
       "      <th>expected_wins</th>\n",
       "      <th>deviation</th>\n",
       "    </tr>\n",
       "  </thead>\n",
       "  <tbody>\n",
       "    <tr>\n",
       "      <th>0</th>\n",
       "      <td>103819</td>\n",
       "      <td>441.0</td>\n",
       "      <td>177.0</td>\n",
       "      <td>618</td>\n",
       "      <td>309.0</td>\n",
       "      <td>132.0</td>\n",
       "    </tr>\n",
       "    <tr>\n",
       "      <th>1</th>\n",
       "      <td>104925</td>\n",
       "      <td>437.0</td>\n",
       "      <td>141.0</td>\n",
       "      <td>578</td>\n",
       "      <td>289.0</td>\n",
       "      <td>148.0</td>\n",
       "    </tr>\n",
       "    <tr>\n",
       "      <th>2</th>\n",
       "      <td>104745</td>\n",
       "      <td>385.0</td>\n",
       "      <td>139.0</td>\n",
       "      <td>524</td>\n",
       "      <td>262.0</td>\n",
       "      <td>123.0</td>\n",
       "    </tr>\n",
       "    <tr>\n",
       "      <th>3</th>\n",
       "      <td>100656</td>\n",
       "      <td>325.0</td>\n",
       "      <td>145.0</td>\n",
       "      <td>470</td>\n",
       "      <td>235.0</td>\n",
       "      <td>90.0</td>\n",
       "    </tr>\n",
       "    <tr>\n",
       "      <th>4</th>\n",
       "      <td>100284</td>\n",
       "      <td>277.0</td>\n",
       "      <td>138.0</td>\n",
       "      <td>415</td>\n",
       "      <td>207.5</td>\n",
       "      <td>69.5</td>\n",
       "    </tr>\n",
       "  </tbody>\n",
       "</table>\n",
       "</div>"
      ],
      "text/plain": [
       "   player_id   wins  losses  total  expected_wins  deviation\n",
       "0     103819  441.0   177.0    618          309.0      132.0\n",
       "1     104925  437.0   141.0    578          289.0      148.0\n",
       "2     104745  385.0   139.0    524          262.0      123.0\n",
       "3     100656  325.0   145.0    470          235.0       90.0\n",
       "4     100284  277.0   138.0    415          207.5       69.5"
      ]
     },
     "execution_count": 78,
     "metadata": {},
     "output_type": "execute_result"
    }
   ],
   "source": [
    "less20.head()"
   ]
  },
  {
   "cell_type": "markdown",
   "metadata": {},
   "source": [
    "5. Рассчитать среднее отклонение для каждой выборки.\n",
    "\n",
    "6. Сравнить средние отклонения между выборками."
   ]
  },
  {
   "cell_type": "code",
   "execution_count": 70,
   "metadata": {},
   "outputs": [
    {
     "name": "stdout",
     "output_type": "stream",
     "text": [
      "Cреднее отклонение для выборки more20: 7.23\n",
      "Cреднее отклонение для выборки less20: 2.97\n"
     ]
    }
   ],
   "source": [
    "# Рассчитаем среднее отклонение для каждой выборки\n",
    "mean_dev_more20 = more20.deviation.abs().mean()\n",
    "mean_dev_less20 = less20.deviation.abs().mean()\n",
    "\n",
    "print(f'Cреднее отклонение для выборки more20: {round(mean_dev_more20, 2)}')\n",
    "print(f'Cреднее отклонение для выборки less20: {round(mean_dev_less20, 2)}')\n"
   ]
  },
  {
   "cell_type": "code",
   "execution_count": 117,
   "metadata": {},
   "outputs": [
    {
     "name": "stderr",
     "output_type": "stream",
     "text": [
      "/home/ruugi/miniconda3/envs/ds/lib/python3.12/site-packages/seaborn/_oldcore.py:1119: FutureWarning: use_inf_as_na option is deprecated and will be removed in a future version. Convert inf values to NaN before operating instead.\n",
      "  with pd.option_context('mode.use_inf_as_na', True):\n",
      "/home/ruugi/miniconda3/envs/ds/lib/python3.12/site-packages/seaborn/_oldcore.py:1119: FutureWarning: use_inf_as_na option is deprecated and will be removed in a future version. Convert inf values to NaN before operating instead.\n",
      "  with pd.option_context('mode.use_inf_as_na', True):\n"
     ]
    },
    {
     "data": {
      "image/png": "[encoded data removed]",
      "text/plain": [
       "<Figure size 1200x400 with 2 Axes>"
      ]
     },
     "metadata": {},
     "output_type": "display_data"
    }
   ],
   "source": [
    "#создаём 2 графика размером 12x4\n",
    "fig, axes = plt.subplots(1, 2, figsize=(12, 4))\n",
    "#строим гистограмму для времени на сайте в каждой группе\n",
    "sns.histplot(x='deviation', data=more20, ax=axes[0])\n",
    "sns.histplot(x='deviation', data=less20, ax=axes[1])\n",
    "#задаём названия графикам\n",
    "axes[0].set_title('deviation more 20');\n",
    "axes[1].set_title('deviation less 20');"
   ]
  },
  {
   "cell_type": "markdown",
   "metadata": {},
   "source": [
    "## <u>*Вывод 1 для задания 1_а:*</u> \n",
    "\n",
    "В первой выборке (ранг выше более чем на 20 позиций) среднее отклонение значительно выше, чем во второй выборке, то это подтверждает гипотезу о большей вероятности выигрыша у игроков с более высоким рангом."
   ]
  },
  {
   "cell_type": "markdown",
   "metadata": {},
   "source": [
    "Но давайте проведем статистические тесты:\n",
    "\n",
    "1. Проверка данных на нормальность:\n",
    "\n",
    "- Тест Шапиро-Уилка"
   ]
  },
  {
   "cell_type": "code",
   "execution_count": 124,
   "metadata": {},
   "outputs": [],
   "source": [
    "def shapiro_test(df1, df2, alpha=0.05):\n",
    "    \"\"\"\n",
    "    Функция для проверки нормальности распределения в двух выборках с помощью критерия Шапиро-Уилка\n",
    "    \"\"\"\n",
    "    H0 = 'Распределения в обеих группах нормальные'\n",
    "    H1 = 'Распределение в одной или обеих группах отлично от нормального'\n",
    "\n",
    "    # вычисляем результат теста Шапиро-Уилка для выборок\n",
    "    shapiro_result_a = shapiro(df1)\n",
    "    shapiro_result_b = shapiro(df2)\n",
    "    print(f'alpha: {alpha}')\n",
    "    print('p-value группы А', round(shapiro_result_a.pvalue, 3))\n",
    "    print('p-value группы B', round(shapiro_result_b.pvalue, 3))\n",
    "    # сравниваем полученное p-value с уровнем значимости\n",
    "    if shapiro_result_a.pvalue < alpha or shapiro_result_b.pvalue < alpha:\n",
    "        print(\"Отвергаем нулевую гипотезу. {}\".format(H0))\n",
    "        print(\"Альтернативная гипотеза. H1: {}\".format(H1))\n",
    "    else:\n",
    "        print(\"Принимаем нулевую гипотезу. {}\".format(H0))"
   ]
  },
  {
   "cell_type": "code",
   "execution_count": 125,
   "metadata": {},
   "outputs": [
    {
     "name": "stdout",
     "output_type": "stream",
     "text": [
      "alpha: 0.05\n",
      "p-value группы А 1.0\n",
      "p-value группы B 1.0\n",
      "Принимаем нулевую гипотезу. Распределения в обеих группах нормальные\n"
     ]
    }
   ],
   "source": [
    "shapiro_test(more20['deviation'], less20['deviation'])"
   ]
  },
  {
   "cell_type": "markdown",
   "metadata": {},
   "source": [
    "- Тест Д'Агостино"
   ]
  },
  {
   "cell_type": "code",
   "execution_count": 126,
   "metadata": {},
   "outputs": [],
   "source": [
    "def test_normality(data, alpha=0.05):\n",
    "    \"\"\"\n",
    "    Функция для проверки нормальности распределения данных\n",
    "    \"\"\"\n",
    "    _, p = normaltest(data)\n",
    "    print('p=%.3f' % (p))\n",
    "    \n",
    "    if p > alpha:\n",
    "        print('Данные распределены нормально')\n",
    "    else:\n",
    "        print('Данные не распределены нормально')"
   ]
  },
  {
   "cell_type": "code",
   "execution_count": 127,
   "metadata": {},
   "outputs": [
    {
     "name": "stdout",
     "output_type": "stream",
     "text": [
      "p=0.000\n",
      "Данные не распределены нормально\n",
      "p=0.000\n",
      "Данные не распределены нормально\n"
     ]
    }
   ],
   "source": [
    "test_normality(more20.deviation.dropna())\n",
    "test_normality(less20.deviation.dropna())"
   ]
  }
 ],
 "metadata": {
  "kernelspec": {
   "display_name": "ds",
   "language": "python",
   "name": "python3"
  },
  "language_info": {
   "codemirror_mode": {
    "name": "ipython",
    "version": 3
   },
   "file_extension": ".py",
   "mimetype": "text/x-python",
   "name": "python",
   "nbconvert_exporter": "python",
   "pygments_lexer": "ipython3",
   "version": "3.12.1"
  }
 },
 "nbformat": 4,
 "nbformat_minor": 2
}
